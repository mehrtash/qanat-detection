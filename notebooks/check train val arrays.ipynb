{
 "cells": [
  {
   "cell_type": "code",
   "execution_count": 1,
   "metadata": {},
   "outputs": [],
   "source": [
    "import glob\n",
    "import json\n",
    "import numpy as np\n",
    "import matplotlib.pyplot as plt\n",
    "import sys,os\n",
    "for module_root in  ['..','../../..']:\n",
    "    sys.path.append(module_root)\n",
    "from settings import intermediate_folder, npy_folder\n",
    "from ipywidgets import interact, widgets\n",
    "from IPython.display import display\n",
    "from visualization.helpers import Browse_image_label_2d_fcn_npy"
   ]
  },
  {
   "cell_type": "code",
   "execution_count": 2,
   "metadata": {},
   "outputs": [
    {
     "data": {
      "application/vnd.jupyter.widget-view+json": {
       "model_id": "775cfd926d9045eb92e9cc0c59048a6a",
       "version_major": 2,
       "version_minor": 0
      },
      "text/plain": [
       "Dropdown(description='source: ', index=2, options=('2018_02_16_13_16_25', 'archive', 'tmp'), value='tmp')"
      ]
     },
     "metadata": {},
     "output_type": "display_data"
    }
   ],
   "source": [
    "npy_folders_list = sorted([item for item in os.listdir(npy_folder)])\n",
    "# npy_folders_list.remove('ensemble')\n",
    "npy_folders_dropdown = widgets.Dropdown(\n",
    "    options=npy_folders_list,\n",
    "    value=npy_folders_list[-1],\n",
    "    description='source: ',\n",
    ")\n",
    "display(npy_folders_dropdown)"
   ]
  },
  {
   "cell_type": "code",
   "execution_count": 3,
   "metadata": {},
   "outputs": [
    {
     "data": {
      "application/vnd.jupyter.widget-view+json": {
       "model_id": "6940f20b6f6e407aaeaedbd8ea473a5a",
       "version_major": 2,
       "version_minor": 0
      },
      "text/plain": [
       "Dropdown(description='fold:', options=('0', '1', '2', '3', '4'), value='0')"
      ]
     },
     "metadata": {},
     "output_type": "display_data"
    },
    {
     "data": {
      "application/vnd.jupyter.widget-view+json": {
       "model_id": "b3c2398848da4eaa95c33aa13bb76f6b",
       "version_major": 2,
       "version_minor": 0
      },
      "text/plain": [
       "Dropdown(description='type:', options=('train', 'val'), value='train')"
      ]
     },
     "metadata": {},
     "output_type": "display_data"
    }
   ],
   "source": [
    "folds_list = sorted(os.listdir(os.path.join(npy_folder, npy_folders_dropdown.value)))\n",
    "folds_dropdown = widgets.Dropdown(\n",
    "    options=folds_list,\n",
    "    description='fold:',\n",
    ")\n",
    "data_type = widgets.Dropdown(\n",
    "    options=['train', 'val'],\n",
    "    description='type:',)\n",
    "display(folds_dropdown)\n",
    "display(data_type)"
   ]
  },
  {
   "cell_type": "code",
   "execution_count": 4,
   "metadata": {},
   "outputs": [
    {
     "name": "stdout",
     "output_type": "stream",
     "text": [
      "/media/mehrtash/mehrtash2/qanat/intermediate/data/npy/2018_02_16_13_16_25/0\n"
     ]
    }
   ],
   "source": [
    "folder_path = os.path.join(npy_folder, npy_folders_dropdown.value, folds_dropdown.value)\n",
    "print(folder_path)\n",
    "y = np.load(os.path.join(folder_path, 'y_' + data_type.value + '.npy'))\n",
    "x = np.load(os.path.join(folder_path, 'x_' + data_type.value + '.npy'))"
   ]
  },
  {
   "cell_type": "code",
   "execution_count": 5,
   "metadata": {},
   "outputs": [
    {
     "data": {
      "application/vnd.jupyter.widget-view+json": {
       "model_id": "e1a4fd940e484a9fa59a34b0913085f1",
       "version_major": 2,
       "version_minor": 0
      },
      "text/plain": [
       "VBox(children=(IntSlider(value=0, description='sample', max=39999), Output(layout=Layout(align_items='stretch'…"
      ]
     },
     "metadata": {},
     "output_type": "display_data"
    }
   ],
   "source": [
    "browser = Browse_image_label_2d_fcn_npy(x,y)\n",
    "browser.vbox"
   ]
  },
  {
   "cell_type": "code",
   "execution_count": 26,
   "metadata": {},
   "outputs": [
    {
     "data": {
      "text/plain": [
       "0.90686274"
      ]
     },
     "execution_count": 26,
     "metadata": {},
     "output_type": "execute_result"
    }
   ],
   "source": [
    "np.amax(x[1])"
   ]
  },
  {
   "cell_type": "code",
   "execution_count": 27,
   "metadata": {},
   "outputs": [
    {
     "data": {
      "text/plain": [
       "(16000, 224, 224, 1)"
      ]
     },
     "execution_count": 27,
     "metadata": {},
     "output_type": "execute_result"
    }
   ],
   "source": [
    "x.shape"
   ]
  },
  {
   "cell_type": "code",
   "execution_count": null,
   "metadata": {
    "collapsed": true
   },
   "outputs": [],
   "source": []
  }
 ],
 "metadata": {
  "kernelspec": {
   "display_name": "Python 3",
   "language": "python",
   "name": "python3"
  },
  "language_info": {
   "codemirror_mode": {
    "name": "ipython",
    "version": 3
   },
   "file_extension": ".py",
   "mimetype": "text/x-python",
   "name": "python",
   "nbconvert_exporter": "python",
   "pygments_lexer": "ipython3",
   "version": "3.6.5"
  }
 },
 "nbformat": 4,
 "nbformat_minor": 2
}
