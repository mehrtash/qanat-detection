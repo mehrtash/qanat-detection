{
 "cells": [
  {
   "cell_type": "code",
   "execution_count": 1,
   "metadata": {},
   "outputs": [],
   "source": [
    "import glob\n",
    "import json\n",
    "import numpy as np\n",
    "import matplotlib.pyplot as plt\n",
    "import sys,os\n",
    "for module_root in  ['..','../../..']:\n",
    "    sys.path.append(module_root)\n",
    "from settings import intermediate_folder, npy_folder\n",
    "from ipywidgets import interact, widgets\n",
    "from IPython.display import display\n",
    "from visualization.helpers import Browse_image_label_2d_fcn_npy"
   ]
  },
  {
   "cell_type": "code",
   "execution_count": 2,
   "metadata": {},
   "outputs": [
    {
     "data": {
      "application/vnd.jupyter.widget-view+json": {
       "model_id": "0cd921436b4840089c5ae13c052b6dfe",
       "version_major": 2,
       "version_minor": 0
      },
      "text/plain": [
       "Dropdown(description='source: ', index=1, options=('2019_02_22_11_00_47', 'third_attempt'), value='third_attem…"
      ]
     },
     "metadata": {},
     "output_type": "display_data"
    }
   ],
   "source": [
    "npy_folders_list = sorted([item for item in os.listdir(npy_folder)])\n",
    "# npy_folders_list.remove('ensemble')\n",
    "npy_folders_dropdown = widgets.Dropdown(\n",
    "    options=npy_folders_list,\n",
    "    value=npy_folders_list[-1],\n",
    "    description='source: ',\n",
    ")\n",
    "display(npy_folders_dropdown)"
   ]
  },
  {
   "cell_type": "code",
   "execution_count": 4,
   "metadata": {},
   "outputs": [
    {
     "data": {
      "application/vnd.jupyter.widget-view+json": {
       "model_id": "5db39c20ef434ad08ee8a834d7dc9da8",
       "version_major": 2,
       "version_minor": 0
      },
      "text/plain": [
       "Dropdown(description='fold:', options=('0', '1', '2', '3', '4', '5', '6'), value='0')"
      ]
     },
     "metadata": {},
     "output_type": "display_data"
    },
    {
     "data": {
      "application/vnd.jupyter.widget-view+json": {
       "model_id": "3d082ddfeb3346698965af1b4f404e9e",
       "version_major": 2,
       "version_minor": 0
      },
      "text/plain": [
       "Dropdown(description='type:', options=('train', 'val'), value='train')"
      ]
     },
     "metadata": {},
     "output_type": "display_data"
    }
   ],
   "source": [
    "folds_list = sorted(os.listdir(os.path.join(npy_folder, npy_folders_dropdown.value)))\n",
    "folds_dropdown = widgets.Dropdown(\n",
    "    options=folds_list,\n",
    "    description='fold:',\n",
    ")\n",
    "data_type = widgets.Dropdown(\n",
    "    options=['train', 'val'],\n",
    "    description='type:',)\n",
    "display(folds_dropdown)\n",
    "display(data_type)"
   ]
  },
  {
   "cell_type": "code",
   "execution_count": 5,
   "metadata": {},
   "outputs": [
    {
     "name": "stdout",
     "output_type": "stream",
     "text": [
      "/home/mehrtash/dropbox/qanat_v2/intermediate/data/npy/2019_02_22_11_00_47/0\n"
     ]
    }
   ],
   "source": [
    "folder_path = os.path.join(npy_folder, npy_folders_dropdown.value, folds_dropdown.value)\n",
    "print(folder_path)\n",
    "y = np.load(os.path.join(folder_path, 'y_' + data_type.value + '.npy'))\n",
    "x = np.load(os.path.join(folder_path, 'x_' + data_type.value + '.npy'))"
   ]
  },
  {
   "cell_type": "code",
   "execution_count": 6,
   "metadata": {},
   "outputs": [
    {
     "data": {
      "application/vnd.jupyter.widget-view+json": {
       "model_id": "d851a51d25ac4d3bafef86595db7eecd",
       "version_major": 2,
       "version_minor": 0
      },
      "text/plain": [
       "VBox(children=(IntSlider(value=0, description='sample', max=15999), Output(layout=Layout(align_items='stretch'…"
      ]
     },
     "metadata": {},
     "output_type": "display_data"
    }
   ],
   "source": [
    "browser = Browse_image_label_2d_fcn_npy(x,y)\n",
    "browser.vbox"
   ]
  },
  {
   "cell_type": "code",
   "execution_count": null,
   "metadata": {},
   "outputs": [],
   "source": []
  }
 ],
 "metadata": {
  "kernelspec": {
   "display_name": "Python 3",
   "language": "python",
   "name": "python3"
  },
  "language_info": {
   "codemirror_mode": {
    "name": "ipython",
    "version": 3
   },
   "file_extension": ".py",
   "mimetype": "text/x-python",
   "name": "python",
   "nbconvert_exporter": "python",
   "pygments_lexer": "ipython3",
   "version": "3.6.8"
  }
 },
 "nbformat": 4,
 "nbformat_minor": 2
}
